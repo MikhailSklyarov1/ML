{
 "cells": [
  {
   "cell_type": "code",
   "execution_count": 1,
   "id": "403e5259-fdab-41b6-8d52-418de2809c50",
   "metadata": {},
   "outputs": [],
   "source": [
    "import pandas as pd\n",
    "import matplotlib.pylab as plt\n",
    "import random\n",
    "import numpy as np\n",
    "from matplotlib import cm\n",
    "import seaborn as sns\n",
    "import math"
   ]
  },
  {
   "cell_type": "code",
   "execution_count": 2,
   "id": "52281467-8034-45e4-8bd6-abbbd7d2d2ca",
   "metadata": {},
   "outputs": [],
   "source": [
    "df = pd.read_csv(\"ex2data1_.txt\", header=None, dtype=float, names=['x1', 'x2', 'y'])\n",
    "df.insert(0, 'x0', 1)"
   ]
  },
  {
   "cell_type": "code",
   "execution_count": 3,
   "id": "6e7a8ac3",
   "metadata": {},
   "outputs": [
    {
     "data": {
      "text/html": [
       "<div>\n",
       "<style scoped>\n",
       "    .dataframe tbody tr th:only-of-type {\n",
       "        vertical-align: middle;\n",
       "    }\n",
       "\n",
       "    .dataframe tbody tr th {\n",
       "        vertical-align: top;\n",
       "    }\n",
       "\n",
       "    .dataframe thead th {\n",
       "        text-align: right;\n",
       "    }\n",
       "</style>\n",
       "<table border=\"1\" class=\"dataframe\">\n",
       "  <thead>\n",
       "    <tr style=\"text-align: right;\">\n",
       "      <th></th>\n",
       "      <th>x0</th>\n",
       "      <th>x1</th>\n",
       "      <th>x2</th>\n",
       "      <th>y</th>\n",
       "    </tr>\n",
       "  </thead>\n",
       "  <tbody>\n",
       "    <tr>\n",
       "      <th>0</th>\n",
       "      <td>1</td>\n",
       "      <td>34.623660</td>\n",
       "      <td>78.024693</td>\n",
       "      <td>0.0</td>\n",
       "    </tr>\n",
       "    <tr>\n",
       "      <th>1</th>\n",
       "      <td>1</td>\n",
       "      <td>30.286711</td>\n",
       "      <td>43.894998</td>\n",
       "      <td>0.0</td>\n",
       "    </tr>\n",
       "    <tr>\n",
       "      <th>2</th>\n",
       "      <td>1</td>\n",
       "      <td>35.847409</td>\n",
       "      <td>72.902198</td>\n",
       "      <td>0.0</td>\n",
       "    </tr>\n",
       "    <tr>\n",
       "      <th>3</th>\n",
       "      <td>1</td>\n",
       "      <td>60.182599</td>\n",
       "      <td>86.308552</td>\n",
       "      <td>1.0</td>\n",
       "    </tr>\n",
       "    <tr>\n",
       "      <th>4</th>\n",
       "      <td>1</td>\n",
       "      <td>79.032736</td>\n",
       "      <td>75.344376</td>\n",
       "      <td>1.0</td>\n",
       "    </tr>\n",
       "  </tbody>\n",
       "</table>\n",
       "</div>"
      ],
      "text/plain": [
       "   x0         x1         x2    y\n",
       "0   1  34.623660  78.024693  0.0\n",
       "1   1  30.286711  43.894998  0.0\n",
       "2   1  35.847409  72.902198  0.0\n",
       "3   1  60.182599  86.308552  1.0\n",
       "4   1  79.032736  75.344376  1.0"
      ]
     },
     "execution_count": 3,
     "metadata": {},
     "output_type": "execute_result"
    }
   ],
   "source": [
    "df.head()"
   ]
  },
  {
   "cell_type": "code",
   "execution_count": 4,
   "id": "764ddfef-eda0-4096-b13a-30747e8a4c44",
   "metadata": {},
   "outputs": [],
   "source": [
    "dataMatrix = df.values\n",
    "X, y = dataMatrix[:,:-1], dataMatrix[:,-1]"
   ]
  },
  {
   "cell_type": "code",
   "execution_count": 5,
   "id": "205dbf70",
   "metadata": {},
   "outputs": [
    {
     "data": {
      "text/plain": [
       "<AxesSubplot:xlabel='x1', ylabel='x2'>"
      ]
     },
     "execution_count": 5,
     "metadata": {},
     "output_type": "execute_result"
    },
    {
     "data": {
      "image/png": "[encoded data removed]",
      "text/plain": [
       "<Figure size 432x288 with 1 Axes>"
      ]
     },
     "metadata": {
      "needs_background": "light"
     },
     "output_type": "display_data"
    }
   ],
   "source": [
    "df.plot.scatter(x='x1',y='x2',c=df.y.map({0:'b', 1:'r'}))"
   ]
  },
  {
   "cell_type": "code",
   "execution_count": 6,
   "id": "93c87e8d-ed73-48c4-91ba-f51381534f9d",
   "metadata": {},
   "outputs": [],
   "source": [
    "def J(X, y, theta):\n",
    "    sigmoida = 1 / (1 + np.exp(-np.matmul(theta, X.T)))\n",
    "    return ((-y*np.log(sigmoida) - (1-y)*np.log(1-sigmoida)).mean())\n",
    "\n",
    "def linear(x,theta):\n",
    "    return (-theta[0] - theta[1]*x) / theta[2] \n",
    "\n",
    "def quadratic(x,theta):\n",
    "    return (-theta[0] - theta[1]*x - theta[3]*(x**2)) / theta[2] \n",
    "\n",
    "def dJ(bX, by, theta):\n",
    "    sigmoida = 1 / (1 + np.exp(-np.matmul(theta, bX)))\n",
    "    return (sigmoida-by) @ bX.T * (1 / len(by))\n",
    "\n",
    "def standardization(dataMatrix, X):\n",
    "    dataMatrix = X = (X - np.mean(X, axis=0)) / np.std(X, axis=0)\n",
    "    return dataMatrix, X"
   ]
  },
  {
   "cell_type": "code",
   "execution_count": 7,
   "id": "4d30372e-33a6-4465-90a4-ad4c88056e68",
   "metadata": {},
   "outputs": [],
   "source": [
    "dataMatrix[:,1:3], X[:,1:3] = standardization(dataMatrix[:,1:3], X[:,1:3])"
   ]
  },
  {
   "cell_type": "code",
   "execution_count": 8,
   "id": "aa7122e9",
   "metadata": {},
   "outputs": [
    {
     "data": {
      "text/plain": [
       "array([[ 1.        , -1.60224763,  0.63834112,  0.        ],\n",
       "       [ 1.        , -1.82625564, -1.2075414 ,  0.        ],\n",
       "       [ 1.        , -1.53903969,  0.3612943 ,  0.        ],\n",
       "       [ 1.        , -0.28210129,  1.0863683 ,  1.        ],\n",
       "       [ 1.        ,  0.69152826,  0.49337794,  1.        ]])"
      ]
     },
     "execution_count": 8,
     "metadata": {},
     "output_type": "execute_result"
    }
   ],
   "source": [
    "dataMatrix[:5, :]"
   ]
  },
  {
   "cell_type": "code",
   "execution_count": 9,
   "id": "6d710306-66fd-43a6-bd6c-e1465748ae82",
   "metadata": {},
   "outputs": [],
   "source": [
    "random.seed()\n",
    "m = 5\n",
    "theta = np.random.rand(1,3)\n",
    "a = 0.05\n",
    "mses = []\n",
    "\n",
    "for step in range(300):\n",
    "    for i in range(math.ceil(len(X)/m)): \n",
    "        bX = X[i*m:i*m+m,:]\n",
    "        by = y[i*m:i*m+m]\n",
    "        theta -= a * dJ(bX.T, by, theta)\n",
    "        d = J(X, y, theta)\n",
    "        mses.append(d)"
   ]
  },
  {
   "cell_type": "code",
   "execution_count": 10,
   "id": "64a5326b-bc02-48b8-9638-1abbe2a0e6f0",
   "metadata": {},
   "outputs": [
    {
     "data": {
      "text/plain": [
       "[<matplotlib.lines.Line2D at 0x1fa747e2fd0>]"
      ]
     },
     "execution_count": 10,
     "metadata": {},
     "output_type": "execute_result"
    },
    {
     "data": {
      "image/png": "[encoded data removed]",
      "text/plain": [
       "<Figure size 432x288 with 1 Axes>"
      ]
     },
     "metadata": {
      "needs_background": "light"
     },
     "output_type": "display_data"
    }
   ],
   "source": [
    "plt.plot(pd.DataFrame(mses).rolling(100).mean())"
   ]
  },
  {
   "cell_type": "code",
   "execution_count": 11,
   "id": "409c8b26-7129-4d4e-8a1e-274e1f231292",
   "metadata": {},
   "outputs": [
    {
     "data": {
      "text/plain": [
       "array([[1.61643867, 3.76255883, 3.50498982]])"
      ]
     },
     "execution_count": 11,
     "metadata": {},
     "output_type": "execute_result"
    }
   ],
   "source": [
    "theta"
   ]
  },
  {
   "cell_type": "code",
   "execution_count": 12,
   "id": "6b2de67c-98ac-463e-a621-1649bb34acfd",
   "metadata": {},
   "outputs": [
    {
     "data": {
      "text/plain": [
       "0.203839587466729"
      ]
     },
     "execution_count": 12,
     "metadata": {},
     "output_type": "execute_result"
    }
   ],
   "source": [
    "J(X, y, theta)"
   ]
  },
  {
   "cell_type": "code",
   "execution_count": 13,
   "id": "e6c2c11f-0fb8-448b-b56b-96b08f43642f",
   "metadata": {},
   "outputs": [],
   "source": [
    "x1 = np.linspace(np.min(X[:,1]), np.max(X[:,1]), num=50)\n",
    "y1 = [linear(x,theta[0]) for x in x1]"
   ]
  },
  {
   "cell_type": "code",
   "execution_count": 14,
   "id": "b153e555",
   "metadata": {},
   "outputs": [
    {
     "data": {
      "text/plain": [
       "[<matplotlib.lines.Line2D at 0x1fa74862a60>]"
      ]
     },
     "execution_count": 14,
     "metadata": {},
     "output_type": "execute_result"
    },
    {
     "data": {
      "image/png": "[encoded data removed]",
      "text/plain": [
       "<Figure size 432x288 with 1 Axes>"
      ]
     },
     "metadata": {
      "needs_background": "light"
     },
     "output_type": "display_data"
    }
   ],
   "source": [
    "plt.scatter(x=X[:,1],y=X[:,2],c=df.y.map({0:'b', 1:'r'}))\n",
    "plt.plot(x1, y1, color='green')"
   ]
  },
  {
   "cell_type": "code",
   "execution_count": 15,
   "id": "c46cde33-249f-4c35-aeff-f889a73e01cd",
   "metadata": {},
   "outputs": [],
   "source": [
    "X1 = np.hstack((dataMatrix[:,0:-1],dataMatrix[:,1:2]**2))\n",
    "dataMatrix = np.hstack((X1,dataMatrix[:, -1:]))"
   ]
  },
  {
   "cell_type": "code",
   "execution_count": 16,
   "id": "5d21bdfc-4bf1-4ff2-9840-a784e413edc3",
   "metadata": {},
   "outputs": [],
   "source": [
    "X, y = dataMatrix[:, 0:-1], dataMatrix[:, -1]\n",
    "random.seed()\n",
    "m = 7\n",
    "theta = np.random.rand(1,4)\n",
    "a = 0.1\n",
    "mses = []\n",
    "\n",
    "for step in range(2100):\n",
    "    for i in range(math.ceil(len(X)/m)): \n",
    "        bX = X[i*m:i*m+m,:]\n",
    "        by = y[i*m:i*m+m]\n",
    "        theta -= a * dJ(bX.T, by, theta)\n",
    "        d = J(X, y, theta)\n",
    "        mses.append(d)"
   ]
  },
  {
   "cell_type": "code",
   "execution_count": 17,
   "id": "59ab0e3e-5272-4802-94eb-3cce1df50d1b",
   "metadata": {},
   "outputs": [
    {
     "data": {
      "text/plain": [
       "[<matplotlib.lines.Line2D at 0x1fa74897970>]"
      ]
     },
     "execution_count": 17,
     "metadata": {},
     "output_type": "execute_result"
    },
    {
     "data": {
      "image/png": "[encoded data removed]",
      "text/plain": [
       "<Figure size 432x288 with 1 Axes>"
      ]
     },
     "metadata": {
      "needs_background": "light"
     },
     "output_type": "display_data"
    }
   ],
   "source": [
    "plt.plot(pd.DataFrame(mses).rolling(80).mean())"
   ]
  },
  {
   "cell_type": "code",
   "execution_count": 18,
   "id": "47f7bdaa-767b-45f9-a50a-939ceced1d28",
   "metadata": {},
   "outputs": [
    {
     "data": {
      "text/plain": [
       "array([[10.37827956, 11.31243533, 12.22382957, -5.38549868]])"
      ]
     },
     "execution_count": 18,
     "metadata": {},
     "output_type": "execute_result"
    }
   ],
   "source": [
    "theta"
   ]
  },
  {
   "cell_type": "code",
   "execution_count": 19,
   "id": "ae3b2dc9-f0f2-4ad5-a5bf-c40d4a33f499",
   "metadata": {},
   "outputs": [
    {
     "data": {
      "text/plain": [
       "0.05104920566443985"
      ]
     },
     "execution_count": 19,
     "metadata": {},
     "output_type": "execute_result"
    }
   ],
   "source": [
    "J(dataMatrix[:,0:-1], dataMatrix[:, -1], theta)"
   ]
  },
  {
   "cell_type": "code",
   "execution_count": 20,
   "id": "05b99f2e-20c0-43d2-b612-b02cd6cbda9e",
   "metadata": {},
   "outputs": [
    {
     "data": {
      "text/plain": [
       "[<matplotlib.lines.Line2D at 0x1fa74a06640>]"
      ]
     },
     "execution_count": 20,
     "metadata": {},
     "output_type": "execute_result"
    },
    {
     "data": {
      "image/png": "[encoded data removed]",
      "text/plain": [
       "<Figure size 432x288 with 1 Axes>"
      ]
     },
     "metadata": {
      "needs_background": "light"
     },
     "output_type": "display_data"
    }
   ],
   "source": [
    "x1 = np.linspace(np.min(X1[:,1]), np.max(X1[:,1]), num=50)\n",
    "y1 = [ quadratic(x,theta[0]) for x in x1]\n",
    "\n",
    "plt.scatter(x=X[:,1],y=X[:,2],c=df.y.map({0:'b', 1:'r'}))\n",
    "plt.plot(x1, y1, color='green')"
   ]
  }
 ],
 "metadata": {
  "kernelspec": {
   "display_name": "Python 3 (ipykernel)",
   "language": "python",
   "name": "python3"
  },
  "language_info": {
   "codemirror_mode": {
    "name": "ipython",
    "version": 3
   },
   "file_extension": ".py",
   "mimetype": "text/x-python",
   "name": "python",
   "nbconvert_exporter": "python",
   "pygments_lexer": "ipython3",
   "version": "3.9.12"
  }
 },
 "nbformat": 4,
 "nbformat_minor": 5
}
