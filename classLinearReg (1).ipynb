{
  "nbformat": 4,
  "nbformat_minor": 0,
  "metadata": {
    "colab": {
      "provenance": []
    },
    "kernelspec": {
      "name": "python3",
      "display_name": "Python 3"
    },
    "language_info": {
      "name": "python"
    }
  },
  "cells": [
    {
      "cell_type": "code",
      "execution_count": 56,
      "metadata": {
        "id": "quGSihx11-ze"
      },
      "outputs": [],
      "source": [
        "import numpy as np\n",
        "import matplotlib.pyplot as plt"
      ]
    },
    {
      "cell_type": "code",
      "source": [
        "X = np.array([1.0, 2.0, 3.0, 4.0])           \n",
        "y = np.array([300.0, 500.0, 700.0, 900.0])  "
      ],
      "metadata": {
        "id": "51duiDFF2AKV"
      },
      "execution_count": 57,
      "outputs": []
    },
    {
      "cell_type": "code",
      "source": [
        "class MyLinearRegression:\n",
        "    \n",
        "    def __init__(self):\n",
        "        self._t0 = 0\n",
        "        self._t1 = 0\n",
        "    \n",
        "    def __repr__(self):\n",
        "        return \"I am a Linear Regression model!\"\n",
        "    \n",
        "    def fit(self, X, y):\n",
        "      error = []\n",
        "      a = 0.003\n",
        "      for i in range(1500//len(X)):\n",
        "        for cur in range(len(X)):\n",
        "          h = self._t1 * X + self._t0\n",
        "          err = (h - y)**2\n",
        "          error.append(err)\n",
        "          dt0 = 2 * (h - y)\n",
        "          dt1 = 2 * X * (h - y)\n",
        "          self._t0 -= a * dt0\n",
        "          self._t1 -= a * dt1\n",
        "      self._t1 = sum(self._t1)/4\n",
        "      self._t0 = sum(self._t0)/4\n",
        "\n",
        "    def predict(self, X):\n",
        "      h = self._t1 * X + self._t0\n",
        "      return h\n",
        "\n"
      ],
      "metadata": {
        "id": "mBlw0jBl40V5"
      },
      "execution_count": 58,
      "outputs": []
    },
    {
      "cell_type": "code",
      "source": [
        "mlr = MyLinearRegression()\n",
        "mlr"
      ],
      "metadata": {
        "colab": {
          "base_uri": "https://localhost:8080/"
        },
        "id": "pC0vGKKs7VZ-",
        "outputId": "32a14d59-c888-4f99-9179-4a52c0399bde"
      },
      "execution_count": 59,
      "outputs": [
        {
          "output_type": "execute_result",
          "data": {
            "text/plain": [
              "I am a Linear Regression model!"
            ]
          },
          "metadata": {},
          "execution_count": 59
        }
      ]
    },
    {
      "cell_type": "code",
      "source": [
        "mlr.fit(X,y)"
      ],
      "metadata": {
        "id": "DoCl8Nhd7dOU"
      },
      "execution_count": 60,
      "outputs": []
    },
    {
      "cell_type": "code",
      "source": [
        "mlr._t1"
      ],
      "metadata": {
        "colab": {
          "base_uri": "https://localhost:8080/"
        },
        "id": "o3yzEXISSEQl",
        "outputId": "5c0288b1-59cc-4826-e315-859df7516b98"
      },
      "execution_count": 61,
      "outputs": [
        {
          "output_type": "execute_result",
          "data": {
            "text/plain": [
              "192.94117595837793"
            ]
          },
          "metadata": {},
          "execution_count": 61
        }
      ]
    },
    {
      "cell_type": "code",
      "source": [
        "mlr._t0"
      ],
      "metadata": {
        "colab": {
          "base_uri": "https://localhost:8080/"
        },
        "id": "ZH6CehXFSPho",
        "outputId": "71eb4356-7b39-46c2-da79-a64b3a193dfe"
      },
      "execution_count": 62,
      "outputs": [
        {
          "output_type": "execute_result",
          "data": {
            "text/plain": [
              "93.23529360543691"
            ]
          },
          "metadata": {},
          "execution_count": 62
        }
      ]
    },
    {
      "cell_type": "code",
      "source": [
        "mlr.predict(1.0)"
      ],
      "metadata": {
        "colab": {
          "base_uri": "https://localhost:8080/"
        },
        "id": "koZsV09RT09n",
        "outputId": "7671777f-4e4a-49a2-bb37-b7fefde370f1"
      },
      "execution_count": 63,
      "outputs": [
        {
          "output_type": "execute_result",
          "data": {
            "text/plain": [
              "286.17646956381486"
            ]
          },
          "metadata": {},
          "execution_count": 63
        }
      ]
    }
  ]
}