{
  "cells": [
    {
      "cell_type": "code",
      "execution_count": null,
      "metadata": {
        "id": "Reql6TDBIfkM"
      },
      "outputs": [],
      "source": [
        "import numpy as np\n",
        "import pandas as pd\n",
        "import matplotlib.pyplot as plt\n",
        "import random\n",
        "import math"
      ]
    },
    {
      "cell_type": "code",
      "execution_count": null,
      "metadata": {
        "colab": {
          "base_uri": "https://localhost:8080/",
          "height": 363
        },
        "id": "b2i4Huu3InM_",
        "outputId": "ec0d0b6d-5813-451c-d926-21a34e071892"
      },
      "outputs": [
        {
          "output_type": "execute_result",
          "data": {
            "text/plain": [
              "          x1         x2  y\n",
              "0  34.623660  78.024693  0\n",
              "1  30.286711  43.894998  0\n",
              "2  35.847409  72.902198  0\n",
              "3  60.182599  86.308552  1\n",
              "4  79.032736  75.344376  1\n",
              "5  45.083277  56.316372  0\n",
              "6  61.106665  96.511426  1\n",
              "7  75.024746  46.554014  1\n",
              "8  76.098787  87.420570  1\n",
              "9  84.432820  43.533393  1"
            ],
            "text/html": [
              "\n",
              "  <div id=\"df-3c28a116-b16d-43eb-8514-d55dbea42528\">\n",
              "    <div class=\"colab-df-container\">\n",
              "      <div>\n",
              "<style scoped>\n",
              "    .dataframe tbody tr th:only-of-type {\n",
              "        vertical-align: middle;\n",
              "    }\n",
              "\n",
              "    .dataframe tbody tr th {\n",
              "        vertical-align: top;\n",
              "    }\n",
              "\n",
              "    .dataframe thead th {\n",
              "        text-align: right;\n",
              "    }\n",
              "</style>\n",
              "<table border=\"1\" class=\"dataframe\">\n",
              "  <thead>\n",
              "    <tr style=\"text-align: right;\">\n",
              "      <th></th>\n",
              "      <th>x1</th>\n",
              "      <th>x2</th>\n",
              "      <th>y</th>\n",
              "    </tr>\n",
              "  </thead>\n",
              "  <tbody>\n",
              "    <tr>\n",
              "      <th>0</th>\n",
              "      <td>34.623660</td>\n",
              "      <td>78.024693</td>\n",
              "      <td>0</td>\n",
              "    </tr>\n",
              "    <tr>\n",
              "      <th>1</th>\n",
              "      <td>30.286711</td>\n",
              "      <td>43.894998</td>\n",
              "      <td>0</td>\n",
              "    </tr>\n",
              "    <tr>\n",
              "      <th>2</th>\n",
              "      <td>35.847409</td>\n",
              "      <td>72.902198</td>\n",
              "      <td>0</td>\n",
              "    </tr>\n",
              "    <tr>\n",
              "      <th>3</th>\n",
              "      <td>60.182599</td>\n",
              "      <td>86.308552</td>\n",
              "      <td>1</td>\n",
              "    </tr>\n",
              "    <tr>\n",
              "      <th>4</th>\n",
              "      <td>79.032736</td>\n",
              "      <td>75.344376</td>\n",
              "      <td>1</td>\n",
              "    </tr>\n",
              "    <tr>\n",
              "      <th>5</th>\n",
              "      <td>45.083277</td>\n",
              "      <td>56.316372</td>\n",
              "      <td>0</td>\n",
              "    </tr>\n",
              "    <tr>\n",
              "      <th>6</th>\n",
              "      <td>61.106665</td>\n",
              "      <td>96.511426</td>\n",
              "      <td>1</td>\n",
              "    </tr>\n",
              "    <tr>\n",
              "      <th>7</th>\n",
              "      <td>75.024746</td>\n",
              "      <td>46.554014</td>\n",
              "      <td>1</td>\n",
              "    </tr>\n",
              "    <tr>\n",
              "      <th>8</th>\n",
              "      <td>76.098787</td>\n",
              "      <td>87.420570</td>\n",
              "      <td>1</td>\n",
              "    </tr>\n",
              "    <tr>\n",
              "      <th>9</th>\n",
              "      <td>84.432820</td>\n",
              "      <td>43.533393</td>\n",
              "      <td>1</td>\n",
              "    </tr>\n",
              "  </tbody>\n",
              "</table>\n",
              "</div>\n",
              "      <button class=\"colab-df-convert\" onclick=\"convertToInteractive('df-3c28a116-b16d-43eb-8514-d55dbea42528')\"\n",
              "              title=\"Convert this dataframe to an interactive table.\"\n",
              "              style=\"display:none;\">\n",
              "        \n",
              "  <svg xmlns=\"http://www.w3.org/2000/svg\" height=\"24px\"viewBox=\"0 0 24 24\"\n",
              "       width=\"24px\">\n",
              "    <path d=\"M0 0h24v24H0V0z\" fill=\"none\"/>\n",
              "    <path d=\"M18.56 5.44l.94 2.06.94-2.06 2.06-.94-2.06-.94-.94-2.06-.94 2.06-2.06.94zm-11 1L8.5 8.5l.94-2.06 2.06-.94-2.06-.94L8.5 2.5l-.94 2.06-2.06.94zm10 10l.94 2.06.94-2.06 2.06-.94-2.06-.94-.94-2.06-.94 2.06-2.06.94z\"/><path d=\"M17.41 7.96l-1.37-1.37c-.4-.4-.92-.59-1.43-.59-.52 0-1.04.2-1.43.59L10.3 9.45l-7.72 7.72c-.78.78-.78 2.05 0 2.83L4 21.41c.39.39.9.59 1.41.59.51 0 1.02-.2 1.41-.59l7.78-7.78 2.81-2.81c.8-.78.8-2.07 0-2.86zM5.41 20L4 18.59l7.72-7.72 1.47 1.35L5.41 20z\"/>\n",
              "  </svg>\n",
              "      </button>\n",
              "      \n",
              "  <style>\n",
              "    .colab-df-container {\n",
              "      display:flex;\n",
              "      flex-wrap:wrap;\n",
              "      gap: 12px;\n",
              "    }\n",
              "\n",
              "    .colab-df-convert {\n",
              "      background-color: #E8F0FE;\n",
              "      border: none;\n",
              "      border-radius: 50%;\n",
              "      cursor: pointer;\n",
              "      display: none;\n",
              "      fill: #1967D2;\n",
              "      height: 32px;\n",
              "      padding: 0 0 0 0;\n",
              "      width: 32px;\n",
              "    }\n",
              "\n",
              "    .colab-df-convert:hover {\n",
              "      background-color: #E2EBFA;\n",
              "      box-shadow: 0px 1px 2px rgba(60, 64, 67, 0.3), 0px 1px 3px 1px rgba(60, 64, 67, 0.15);\n",
              "      fill: #174EA6;\n",
              "    }\n",
              "\n",
              "    [theme=dark] .colab-df-convert {\n",
              "      background-color: #3B4455;\n",
              "      fill: #D2E3FC;\n",
              "    }\n",
              "\n",
              "    [theme=dark] .colab-df-convert:hover {\n",
              "      background-color: #434B5C;\n",
              "      box-shadow: 0px 1px 3px 1px rgba(0, 0, 0, 0.15);\n",
              "      filter: drop-shadow(0px 1px 2px rgba(0, 0, 0, 0.3));\n",
              "      fill: #FFFFFF;\n",
              "    }\n",
              "  </style>\n",
              "\n",
              "      <script>\n",
              "        const buttonEl =\n",
              "          document.querySelector('#df-3c28a116-b16d-43eb-8514-d55dbea42528 button.colab-df-convert');\n",
              "        buttonEl.style.display =\n",
              "          google.colab.kernel.accessAllowed ? 'block' : 'none';\n",
              "\n",
              "        async function convertToInteractive(key) {\n",
              "          const element = document.querySelector('#df-3c28a116-b16d-43eb-8514-d55dbea42528');\n",
              "          const dataTable =\n",
              "            await google.colab.kernel.invokeFunction('convertToInteractive',\n",
              "                                                     [key], {});\n",
              "          if (!dataTable) return;\n",
              "\n",
              "          const docLinkHtml = 'Like what you see? Visit the ' +\n",
              "            '<a target=\"_blank\" href=https://colab.research.google.com/notebooks/data_table.ipynb>data table notebook</a>'\n",
              "            + ' to learn more about interactive tables.';\n",
              "          element.innerHTML = '';\n",
              "          dataTable['output_type'] = 'display_data';\n",
              "          await google.colab.output.renderOutput(dataTable, element);\n",
              "          const docLink = document.createElement('div');\n",
              "          docLink.innerHTML = docLinkHtml;\n",
              "          element.appendChild(docLink);\n",
              "        }\n",
              "      </script>\n",
              "    </div>\n",
              "  </div>\n",
              "  "
            ]
          },
          "metadata": {},
          "execution_count": 263
        }
      ],
      "source": [
        "data = pd.read_csv('ex2data1_.txt', header=None, names=['x1', 'x2', 'y'])\n",
        "data.head(10)"
      ]
    },
    {
      "cell_type": "code",
      "execution_count": null,
      "metadata": {
        "colab": {
          "base_uri": "https://localhost:8080/",
          "height": 265
        },
        "id": "qXZn1H15Ipa6",
        "outputId": "616b8e04-2056-4524-b13b-ccab0bc86345"
      },
      "outputs": [
        {
          "output_type": "display_data",
          "data": {
            "text/plain": [
              "<Figure size 432x288 with 1 Axes>"
            ],
            "image/png": "[encoded data removed]"
          },
          "metadata": {
            "needs_background": "light"
          }
        }
      ],
      "source": [
        "plt.scatter(data['x1'], data['x2'], c=data['y'])\n",
        "plt.show()"
      ]
    },
    {
      "cell_type": "code",
      "execution_count": null,
      "metadata": {
        "id": "kWMjvMerWcIU"
      },
      "outputs": [],
      "source": [
        "matrix = data.values\n",
        "x0 = np.ones((len(data), 1))"
      ]
    },
    {
      "cell_type": "code",
      "execution_count": null,
      "metadata": {
        "id": "KoHpHxn6Ir4-"
      },
      "outputs": [],
      "source": [
        "matrix[:,0:2] = (matrix[:,0:2] - np.mean(matrix[:,0:2], axis=0)) / np.std(matrix[:,0:2], axis=0) "
      ]
    },
    {
      "cell_type": "code",
      "execution_count": null,
      "metadata": {
        "id": "EnfmHmIqWcIW"
      },
      "outputs": [],
      "source": [
        "quadratic_x1 = matrix[:,0]**2\n",
        "pow_4_x2 = matrix[:,1]**4\n",
        "multiply_x1_x2 = matrix[:,0]*matrix[:,1]\n",
        "\n",
        "matrix = np.column_stack((x0, matrix[:,0], matrix[:,1], quadratic_x1, pow_4_x2, multiply_x1_x2, matrix[:,2]))"
      ]
    },
    {
      "cell_type": "code",
      "execution_count": null,
      "metadata": {
        "id": "16nOOs9yWcIW"
      },
      "outputs": [],
      "source": [
        "def H(x):\n",
        "    return 1/(1 + np.exp(-x))"
      ]
    },
    {
      "cell_type": "code",
      "execution_count": null,
      "metadata": {
        "id": "e1rPBsGAWcIW"
      },
      "outputs": [],
      "source": [
        "def F1(h, y):\n",
        "    TP = ((h >= 0.5) & (y == 1)).sum()\n",
        "    FP = ((h >= 0.5) & (y == 0)).sum()\n",
        "    FN = ((h < 0.5) & (y == 1)).sum() \n",
        "    precision = TP/(TP + FP)\n",
        "    recall = TP/(TP + FN)\n",
        "    return (2 * precision * recall) / (precision + recall)"
      ]
    },
    {
      "cell_type": "code",
      "execution_count": null,
      "metadata": {
        "id": "K71xboGmLk9d"
      },
      "outputs": [],
      "source": [
        "def gradient_descent(matrix, batch_len, alpha, theta_len, epoch, lambda_, train_split, valid_split):\n",
        "    F1_train = []\n",
        "    F1_valid = []\n",
        "    F1_test = []\n",
        "    MSEs = []\n",
        "    theta = np.random.uniform(size = (1, theta_len))\n",
        "\n",
        "    np.random.shuffle(matrix)\n",
        "    train = matrix[0:int(train_split*len(matrix)), :]\n",
        "    validate = matrix[int(train_split*len(matrix)):int(train_split*len(matrix))+int(valid_split*len(matrix)), :]\n",
        "    test = matrix[int(train_split*len(matrix))+int(valid_split*len(matrix)):len(matrix), :]\n",
        "                 \n",
        "    for i in range(epoch):\n",
        "        np.random.shuffle(train)\n",
        "        for j in range(math.ceil(len(train)/batch_len)):\n",
        "            batch_x = train[j*batch_len : j*batch_len + batch_len, : theta_len] \n",
        "            batch_y = train[j*batch_len : j*batch_len + batch_len, -1:] \n",
        "            h = H(theta @ batch_x.T)\n",
        "            theta -= alpha* ((h - batch_y.T) @ batch_x +  2 * lambda_ * theta) / len(batch_x)\n",
        "            j = (-batch_y.T * np.log(h) - (1-batch_y.T) * np.log(1 - h)).mean()\n",
        "            MSEs.append(j)\n",
        "        F1_train.append(F1(H(theta @ train[:, :theta_len].T), train[:, -1:].T))\n",
        "        F1_valid.append(F1(H(theta @ validate[:, :theta_len].T), validate[:, -1:].T))\n",
        "        F1_test.append(F1(H(theta @ test[:, :theta_len].T), test[:, -1:].T))\n",
        "    \n",
        "    return F1_train, F1_valid, F1_test, theta, MSEs"
      ]
    },
    {
      "cell_type": "code",
      "execution_count": null,
      "metadata": {
        "colab": {
          "base_uri": "https://localhost:8080/"
        },
        "id": "gnyqHwHvLmVx",
        "outputId": "26177284-966b-49ca-905b-5141175b587c"
      },
      "outputs": [
        {
          "output_type": "stream",
          "name": "stdout",
          "text": [
            "The best model is: \n",
            " a =0.007\n",
            "L =0.003\n",
            " t = [[1.03814464 2.93498198 2.58916354]]\n",
            "The worst model is: \n",
            " a =0.012\n",
            "L =0.7\n",
            " t = [[0.43618162 0.95994776 0.92938472]]\n"
          ]
        }
      ],
      "source": [
        "#a_array = np.array([0.01, 0.007, 0.012])\n",
        "#l_array = np.array([ 0.01, 0.001, 0.0008])\n",
        "\n",
        "a_array = np.array([0.5, 0.007, 0.012])\n",
        "l_array = np.array([1, 0.7, 0.003])\n",
        "\n",
        "\n",
        "\n",
        "max_F1 = 0 \n",
        "best_alpha = 0 \n",
        "best_lambda = 0\n",
        "best_theta_size  = 0\n",
        "\n",
        "best_F1_valid = [] \n",
        "best_F1_test = []\n",
        "best_F1_train = []\n",
        "best_error = []\n",
        "best_theta = []\n",
        "\n",
        "min_F1 = 1\n",
        "worst_alpha = 0\n",
        "worst_lambda = 0\n",
        "worst_theta_size  = 0\n",
        "\n",
        "worst_F1_valid = []\n",
        "worst_F1_test = []\n",
        "worst_F1_train = []\n",
        "worst_error = []\n",
        "worst_theta = []\n",
        "\n",
        "train_split = 0.6\n",
        "valid_split = 0.2\n",
        "\n",
        "for theta_size in range(3, 4):\n",
        "    for a in a_array:\n",
        "        for l in l_array:\n",
        "            F1_train, F1_valid, F1_test, theta, error = gradient_descent(matrix, 15, a, theta_size, 3000, l, train_split, valid_split)\n",
        "\n",
        "            for f1 in F1_valid:\n",
        "                if(f1 > max_F1):\n",
        "                    best_F1_train = F1_train\n",
        "                    best_F1_valid = F1_valid\n",
        "                    best_F1_test = F1_test\n",
        "                    max_F1 = f1\n",
        "                    best_lambda = l\n",
        "                    best_alpha = a\n",
        "                    best_theta_size = theta_size\n",
        "                    best_error = error\n",
        "                    best_theta = theta\n",
        "\n",
        "                if(f1 < min_F1):\n",
        "                    worst_F1_train = F1_train\n",
        "                    worst_F1_valid = F1_valid\n",
        "                    worst_F1_test = F1_test\n",
        "                    min_F1 = f1\n",
        "                    worst_lambda = l\n",
        "                    worst_alpha = a\n",
        "                    worst_theta_size = theta_size\n",
        "                    worst_error = error\n",
        "                    worst_theta = theta\n",
        "    \n",
        "\n",
        "print(\"The best model is: \" + \"\\n a =\" + str(best_alpha) + \"\\nL =\" + str(best_lambda) + \"\\n t = \" + str(best_theta))\n",
        "print(\"The worst model is: \" + \"\\n a =\" + str(worst_alpha) + \"\\nL =\" + str(worst_lambda) + \"\\n t = \" + str(worst_theta))"
      ]
    },
    {
      "cell_type": "code",
      "execution_count": null,
      "metadata": {
        "colab": {
          "base_uri": "https://localhost:8080/",
          "height": 265
        },
        "id": "0IMKwrP1WcIY",
        "outputId": "2dd6fa25-de36-4071-eb0c-7dd7ce00f4c7"
      },
      "outputs": [
        {
          "output_type": "display_data",
          "data": {
            "text/plain": [
              "<Figure size 432x288 with 1 Axes>"
            ],
            "image/png": "[encoded data removed]"
          },
          "metadata": {
            "needs_background": "light"
          }
        }
      ],
      "source": [
        "window = len(data)\n",
        "plt.plot(pd.DataFrame(best_error).rolling(window).mean(), 'g')\n",
        "plt.plot(pd.DataFrame(worst_error).rolling(window).mean(), 'r')\n",
        "plt.show()"
      ]
    },
    {
      "cell_type": "code",
      "execution_count": null,
      "metadata": {
        "colab": {
          "base_uri": "https://localhost:8080/",
          "height": 265
        },
        "id": "8_KsczthWcIY",
        "outputId": "f1266dad-d4a6-4a80-feea-f4842abe2454"
      },
      "outputs": [
        {
          "output_type": "display_data",
          "data": {
            "text/plain": [
              "<Figure size 432x288 with 1 Axes>"
            ],
            "image/png": "[encoded data removed]"
          },
          "metadata": {
            "needs_background": "light"
          }
        }
      ],
      "source": [
        "plt.plot(pd.DataFrame(worst_F1_valid).rolling(window).mean(), 'r')\n",
        "plt.plot(pd.DataFrame(best_F1_valid).rolling(window).mean(), 'g')\n",
        "plt.show()"
      ]
    },
    {
      "cell_type": "code",
      "execution_count": null,
      "metadata": {
        "colab": {
          "base_uri": "https://localhost:8080/",
          "height": 334
        },
        "id": "DbFebkmLMJWO",
        "outputId": "97d33723-6260-4e20-ca7c-b214397fc24b"
      },
      "outputs": [
        {
          "output_type": "stream",
          "name": "stderr",
          "text": [
            "/usr/local/lib/python3.7/dist-packages/ipykernel_launcher.py:5: RuntimeWarning: invalid value encountered in long_scalars\n",
            "  \"\"\"\n",
            "/usr/local/lib/python3.7/dist-packages/ipykernel_launcher.py:6: RuntimeWarning: invalid value encountered in long_scalars\n",
            "  \n"
          ]
        },
        {
          "output_type": "display_data",
          "data": {
            "text/plain": [
              "<Figure size 432x288 with 1 Axes>"
            ],
            "image/png": "[encoded data removed]"
          },
          "metadata": {
            "needs_background": "light"
          }
        }
      ],
      "source": [
        "train_split = [0.1, 0.2, 0.3, 0.4, 0.5, 0.6, 0.7, 0.8]\n",
        "f1 = []\n",
        "\n",
        "for train in train_split:\n",
        "  F1_valid, F1_test, F1_train, theta, j = gradient_descent(matrix, 15, a, theta_size, 3000, l, train, 0.2)\n",
        "  f1.append(F1_valid[-1])\n",
        "\n",
        "plt.plot(train_split, f1)\n",
        "plt.show()"
      ]
    },
    {
      "cell_type": "code",
      "execution_count": null,
      "metadata": {
        "colab": {
          "base_uri": "https://localhost:8080/",
          "height": 265
        },
        "id": "E3ih-75rWcIZ",
        "outputId": "8b07949b-6b27-4b5a-984e-798404839188"
      },
      "outputs": [
        {
          "output_type": "display_data",
          "data": {
            "text/plain": [
              "<Figure size 432x288 with 1 Axes>"
            ],
            "image/png": "[encoded data removed]"
          },
          "metadata": {
            "needs_background": "light"
          }
        }
      ],
      "source": [
        "plt.plot(pd.DataFrame(best_error).rolling(100).mean())\n",
        "plt.show()"
      ]
    },
    {
      "cell_type": "code",
      "execution_count": null,
      "metadata": {
        "id": "1jQobTuKWcIZ"
      },
      "outputs": [],
      "source": []
    }
  ],
  "metadata": {
    "colab": {
      "provenance": []
    },
    "kernelspec": {
      "display_name": "Python 3 (ipykernel)",
      "language": "python",
      "name": "python3"
    },
    "language_info": {
      "codemirror_mode": {
        "name": "ipython",
        "version": 3
      },
      "file_extension": ".py",
      "mimetype": "text/x-python",
      "name": "python",
      "nbconvert_exporter": "python",
      "pygments_lexer": "ipython3",
      "version": "3.9.12"
    }
  },
  "nbformat": 4,
  "nbformat_minor": 0
}