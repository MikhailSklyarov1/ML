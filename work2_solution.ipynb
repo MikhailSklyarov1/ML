{
 "cells": [
  {
   "cell_type": "code",
   "execution_count": 1,
   "id": "a4475b9a",
   "metadata": {
    "id": "a4475b9a"
   },
   "outputs": [],
   "source": [
    "import math, copy\n",
    "import random as rnd\n",
    "import numpy as np\n",
    "import pandas as pd\n",
    "import matplotlib.pyplot as plt\n",
    "from mpl_toolkits import mplot3d\n",
    "from random import seed\n",
    "from random import random\n",
    "from sklearn.utils import shuffle\n",
    "from mpl_toolkits.mplot3d import Axes3D\n"
   ]
  },
  {
   "cell_type": "code",
   "execution_count": 2,
   "id": "508fede9",
   "metadata": {
    "id": "508fede9"
   },
   "outputs": [],
   "source": [
    "df=pd.read_csv(\"ex1data2.txt\", names=['x1', 'x2', 'y'])\n",
    "df = shuffle(df)\n",
    "x_train = df.x1.values\n",
    "y_train = df.x2.values\n",
    "z_train = df.y.values"
   ]
  },
  {
   "cell_type": "code",
   "execution_count": 3,
   "id": "57fb717d",
   "metadata": {
    "colab": {
     "base_uri": "https://localhost:8080/",
     "height": 206
    },
    "id": "57fb717d",
    "outputId": "4cd30e54-85cb-4f08-c0ec-20a9ae892745"
   },
   "outputs": [
    {
     "data": {
      "text/html": [
       "<div>\n",
       "<style scoped>\n",
       "    .dataframe tbody tr th:only-of-type {\n",
       "        vertical-align: middle;\n",
       "    }\n",
       "\n",
       "    .dataframe tbody tr th {\n",
       "        vertical-align: top;\n",
       "    }\n",
       "\n",
       "    .dataframe thead th {\n",
       "        text-align: right;\n",
       "    }\n",
       "</style>\n",
       "<table border=\"1\" class=\"dataframe\">\n",
       "  <thead>\n",
       "    <tr style=\"text-align: right;\">\n",
       "      <th></th>\n",
       "      <th>x1</th>\n",
       "      <th>x2</th>\n",
       "      <th>y</th>\n",
       "    </tr>\n",
       "  </thead>\n",
       "  <tbody>\n",
       "    <tr>\n",
       "      <th>17</th>\n",
       "      <td>1236</td>\n",
       "      <td>3</td>\n",
       "      <td>199900</td>\n",
       "    </tr>\n",
       "    <tr>\n",
       "      <th>28</th>\n",
       "      <td>2200</td>\n",
       "      <td>3</td>\n",
       "      <td>475000</td>\n",
       "    </tr>\n",
       "    <tr>\n",
       "      <th>25</th>\n",
       "      <td>1100</td>\n",
       "      <td>3</td>\n",
       "      <td>249900</td>\n",
       "    </tr>\n",
       "    <tr>\n",
       "      <th>18</th>\n",
       "      <td>2609</td>\n",
       "      <td>4</td>\n",
       "      <td>499998</td>\n",
       "    </tr>\n",
       "    <tr>\n",
       "      <th>20</th>\n",
       "      <td>1767</td>\n",
       "      <td>3</td>\n",
       "      <td>252900</td>\n",
       "    </tr>\n",
       "  </tbody>\n",
       "</table>\n",
       "</div>"
      ],
      "text/plain": [
       "      x1  x2       y\n",
       "17  1236   3  199900\n",
       "28  2200   3  475000\n",
       "25  1100   3  249900\n",
       "18  2609   4  499998\n",
       "20  1767   3  252900"
      ]
     },
     "execution_count": 3,
     "metadata": {},
     "output_type": "execute_result"
    }
   ],
   "source": [
    "df.head()"
   ]
  },
  {
   "cell_type": "code",
   "execution_count": 4,
   "id": "164be98e",
   "metadata": {
    "colab": {
     "base_uri": "https://localhost:8080/"
    },
    "id": "164be98e",
    "outputId": "c882a226-670d-48a5-f487-9ad7e9379c46"
   },
   "outputs": [
    {
     "name": "stdout",
     "output_type": "stream",
     "text": [
      "Размер датасета: (47, 3)\n"
     ]
    }
   ],
   "source": [
    "print(f\"Размер датасета: {df.shape}\")"
   ]
  },
  {
   "cell_type": "code",
   "execution_count": 5,
   "id": "758127c9",
   "metadata": {},
   "outputs": [],
   "source": [
    "%matplotlib qt \n",
    "ax = plt.axes(projection='3d')\n",
    "ax.scatter(x_train, y_train, z_train, c=z_train, cmap='viridis', linewidth=0.5);"
   ]
  },
  {
   "cell_type": "code",
   "execution_count": 6,
   "id": "d7982482",
   "metadata": {},
   "outputs": [],
   "source": [
    "#df = (df - df.mean()) / df.std()\n",
    "\n",
    "df['x1'] = (df['x1'] - df['x1'].mean()) / df['x1'].std()\n",
    "df['x2'] = (df['x2'] - df['x2'].mean()) / df['x2'].std()"
   ]
  },
  {
   "cell_type": "code",
   "execution_count": 7,
   "id": "6644d9b6",
   "metadata": {},
   "outputs": [],
   "source": [
    "df.insert(0, 'Ones', 1)\n",
    "# df['x0'] = 1\n",
    "\n",
    "Xy = df.values\n",
    "#X = Xy[:, :-1]\n",
    "#y = Xy[:, -1:]"
   ]
  },
  {
   "cell_type": "code",
   "execution_count": 8,
   "id": "5dba43de",
   "metadata": {},
   "outputs": [
    {
     "data": {
      "text/html": [
       "<div>\n",
       "<style scoped>\n",
       "    .dataframe tbody tr th:only-of-type {\n",
       "        vertical-align: middle;\n",
       "    }\n",
       "\n",
       "    .dataframe tbody tr th {\n",
       "        vertical-align: top;\n",
       "    }\n",
       "\n",
       "    .dataframe thead th {\n",
       "        text-align: right;\n",
       "    }\n",
       "</style>\n",
       "<table border=\"1\" class=\"dataframe\">\n",
       "  <thead>\n",
       "    <tr style=\"text-align: right;\">\n",
       "      <th></th>\n",
       "      <th>Ones</th>\n",
       "      <th>x1</th>\n",
       "      <th>x2</th>\n",
       "      <th>y</th>\n",
       "    </tr>\n",
       "  </thead>\n",
       "  <tbody>\n",
       "    <tr>\n",
       "      <th>17</th>\n",
       "      <td>1</td>\n",
       "      <td>-0.962223</td>\n",
       "      <td>-0.223675</td>\n",
       "      <td>199900</td>\n",
       "    </tr>\n",
       "    <tr>\n",
       "      <th>28</th>\n",
       "      <td>1</td>\n",
       "      <td>0.250810</td>\n",
       "      <td>-0.223675</td>\n",
       "      <td>475000</td>\n",
       "    </tr>\n",
       "    <tr>\n",
       "      <th>25</th>\n",
       "      <td>1</td>\n",
       "      <td>-1.133356</td>\n",
       "      <td>-0.223675</td>\n",
       "      <td>249900</td>\n",
       "    </tr>\n",
       "    <tr>\n",
       "      <th>18</th>\n",
       "      <td>1</td>\n",
       "      <td>0.765468</td>\n",
       "      <td>1.090417</td>\n",
       "      <td>499998</td>\n",
       "    </tr>\n",
       "    <tr>\n",
       "      <th>20</th>\n",
       "      <td>1</td>\n",
       "      <td>-0.294048</td>\n",
       "      <td>-0.223675</td>\n",
       "      <td>252900</td>\n",
       "    </tr>\n",
       "  </tbody>\n",
       "</table>\n",
       "</div>"
      ],
      "text/plain": [
       "    Ones        x1        x2       y\n",
       "17     1 -0.962223 -0.223675  199900\n",
       "28     1  0.250810 -0.223675  475000\n",
       "25     1 -1.133356 -0.223675  249900\n",
       "18     1  0.765468  1.090417  499998\n",
       "20     1 -0.294048 -0.223675  252900"
      ]
     },
     "execution_count": 8,
     "metadata": {},
     "output_type": "execute_result"
    }
   ],
   "source": [
    "df.head()"
   ]
  },
  {
   "cell_type": "code",
   "execution_count": 9,
   "id": "50b6a151",
   "metadata": {},
   "outputs": [
    {
     "data": {
      "text/plain": [
       "array([[0.26535045, 0.541751  , 0.61182981]])"
      ]
     },
     "execution_count": 9,
     "metadata": {},
     "output_type": "execute_result"
    }
   ],
   "source": [
    "# X = np.matrix(X.values)\n",
    "# y = np.matrix(y.values)\n",
    "theta = np.random.uniform(size=[1, 3]) #np.matrix(np.array([rnd.random(),rnd.random(),rnd.random()]))\n",
    "theta"
   ]
  },
  {
   "cell_type": "code",
   "execution_count": 10,
   "id": "1a2f55e7",
   "metadata": {},
   "outputs": [],
   "source": [
    "def func_H(theta, Xbatch, Ybatch):\n",
    "    return theta @ Xbatch.T - Ybatch.T\n",
    "    "
   ]
  },
  {
   "cell_type": "code",
   "execution_count": 11,
   "id": "b261c2d8",
   "metadata": {},
   "outputs": [],
   "source": [
    "X=Xy[:, :-1]\n",
    "y=Xy[:, -1:]"
   ]
  },
  {
   "cell_type": "code",
   "execution_count": 12,
   "id": "182c3460",
   "metadata": {},
   "outputs": [],
   "source": [
    "alpha = 0.0002\n",
    "m = 5\n",
    "mses = []\n",
    "\n",
    "for i in range(1500):\n",
    "    for j in range(math.ceil(len(Xy)/m)):\n",
    "        #Xbatch = X[j*m:j*m+m]\n",
    "        #Ybatch = y[j*m:j*m+m]\n",
    "        Xybatch = Xy[j*m:j*m+m]\n",
    "        #print(len(Xbatch))\n",
    "        \n",
    "        Xbatch = Xybatch[:, :-1]\n",
    "        Ybatch = Xybatch[:, -1:]\n",
    "        \n",
    "        #X=Xy[:, :-1]\n",
    "        #y=Xy[:, -1:]\n",
    "              \n",
    "        theta -= (alpha * 2 / m) * func_H(theta, Xbatch, Ybatch) @ Xbatch                                                     \n",
    "\n",
    "        \n",
    "        mse = (func_H(theta, X,  y) ** 2).mean() #np.sum(np.power(func_H(theta, X, y), 2))/len(X)\n",
    "        mses.append(mse)"
   ]
  },
  {
   "cell_type": "code",
   "execution_count": 13,
   "id": "ca576e6b",
   "metadata": {},
   "outputs": [],
   "source": [
    "#mses"
   ]
  },
  {
   "cell_type": "code",
   "execution_count": 14,
   "id": "db10706d",
   "metadata": {},
   "outputs": [],
   "source": [
    "yplot = np.array(mses)\n",
    "xplot = np.array(range(0, len(mses)))\n",
    "plt.figure(figsize=(20,6)) \n",
    "plt.plot(xplot, yplot)\n",
    "plt.show()"
   ]
  },
  {
   "cell_type": "code",
   "execution_count": 15,
   "id": "e2b6d58d",
   "metadata": {},
   "outputs": [
    {
     "data": {
      "text/plain": [
       "(47, 3)"
      ]
     },
     "execution_count": 15,
     "metadata": {},
     "output_type": "execute_result"
    }
   ],
   "source": [
    "np.shape(X)"
   ]
  },
  {
   "cell_type": "code",
   "execution_count": 16,
   "id": "1cc01468",
   "metadata": {},
   "outputs": [
    {
     "name": "stdout",
     "output_type": "stream",
     "text": [
      "(1, 3)\n"
     ]
    },
    {
     "data": {
      "text/plain": [
       "<mpl_toolkits.mplot3d.art3d.Path3DCollection at 0x23d0c9bbbb0>"
      ]
     },
     "execution_count": 16,
     "metadata": {},
     "output_type": "execute_result"
    }
   ],
   "source": [
    "\n",
    "count = 20\n",
    "_X1 = np.linspace(np.min(X[:,1]), np.max(X[:,1]), num=count)\n",
    "_X2 = np.linspace(np.min(X[:,2]), np.max(X[:,2]), num=count)\n",
    "H = []\n",
    "print(np.shape(theta))\n",
    "for x1 in _X1:\n",
    "    for x2 in _X2:\n",
    "        h = theta[0,2] * x2 + theta[0,1] * x1 + theta[0,0]\n",
    "        H.append(h)\n",
    "\n",
    "_X1, _X2 = np.meshgrid(_X1, _X2)\n",
    "\n",
    "#H = np.array(H)\n",
    "ax = plt.axes(projection='3d')\n",
    "ax.view_init(0, 10)\n",
    "ax.scatter(X[:,1], X[:,2], y)\n"
   ]
  },
  {
   "cell_type": "code",
   "execution_count": 17,
   "id": "e760daf6",
   "metadata": {},
   "outputs": [],
   "source": [
    "ax. plot_trisurf(_X1.flatten(), _X2.flatten(), H, color='y', linewidth=0, antialiased=True)\n",
    "plt.show()"
   ]
  },
  {
   "cell_type": "code",
   "execution_count": 18,
   "id": "76d6a823",
   "metadata": {},
   "outputs": [
    {
     "data": {
      "text/plain": [
       "6"
      ]
     },
     "execution_count": 18,
     "metadata": {},
     "output_type": "execute_result"
    }
   ],
   "source": [
    "math.ceil(5.5)"
   ]
  },
  {
   "cell_type": "code",
   "execution_count": null,
   "id": "89d95e83",
   "metadata": {},
   "outputs": [],
   "source": []
  }
 ],
 "metadata": {
  "colab": {
   "collapsed_sections": [],
   "provenance": []
  },
  "dl_toc_settings": {
   "rndtag": "40291"
  },
  "kernelspec": {
   "display_name": "Python 3 (ipykernel)",
   "language": "python",
   "name": "python3"
  },
  "language_info": {
   "codemirror_mode": {
    "name": "ipython",
    "version": 3
   },
   "file_extension": ".py",
   "mimetype": "text/x-python",
   "name": "python",
   "nbconvert_exporter": "python",
   "pygments_lexer": "ipython3",
   "version": "3.9.12"
  },
  "toc-autonumbering": false
 },
 "nbformat": 4,
 "nbformat_minor": 5
}
