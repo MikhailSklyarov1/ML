{
  "nbformat": 4,
  "nbformat_minor": 0,
  "metadata": {
    "colab": {
      "provenance": []
    },
    "kernelspec": {
      "name": "python3",
      "display_name": "Python 3"
    },
    "language_info": {
      "name": "python"
    }
  },
  "cells": [
    {
      "cell_type": "code",
      "execution_count": 11,
      "metadata": {
        "id": "vezv_wpK6gPA"
      },
      "outputs": [],
      "source": [
        "# Задание 1. Подключите библиотеку NumPy\n",
        "\n",
        "import numpy as np"
      ]
    },
    {
      "cell_type": "code",
      "source": [
        "# Задание 2. Исправить ошибку\n",
        "\n",
        "a = np.array([4, 5, 4])\n",
        "c = np.array([1, 2])\n",
        "try:\n",
        "    d = a + c\n",
        "    print(d)\n",
        "except Exception as e:\n",
        "    print(\"Error:\")\n",
        "    print(e)"
      ],
      "metadata": {
        "colab": {
          "base_uri": "https://localhost:8080/"
        },
        "id": "OGKFC7Vt69t7",
        "outputId": "2b3c3833-fea9-4a0d-b974-bd45d4632c6e"
      },
      "execution_count": 8,
      "outputs": [
        {
          "output_type": "stream",
          "name": "stdout",
          "text": [
            "Error:\n",
            "operands could not be broadcast together with shapes (3,) (2,) \n"
          ]
        }
      ]
    },
    {
      "cell_type": "code",
      "source": [
        "# Задание 3. Написать код для умножения вектора на скалярное значение\n",
        "\n",
        "a = np.array([1, 2, 3, 4])\n",
        "b = #...\n",
        "print(f\"b = 5 * a : {b}\")"
      ],
      "metadata": {
        "id": "xDIsEl4f7oE1"
      },
      "execution_count": null,
      "outputs": []
    },
    {
      "cell_type": "markdown",
      "source": [
        "Формуля для нахождения скаляроного произведения:\n",
        "$$ x = \\sum_{i=0}^{n-1} a_i b_i $$\n"
      ],
      "metadata": {
        "id": "_DXmuWlO-cL3"
      }
    },
    {
      "cell_type": "code",
      "source": [
        "# Задание 4. Допишите функцию, которая находит скаларное произведение двух векторов\n",
        "\n",
        "def dot_product_of_vectors(a, b): \n",
        "    x=0\n",
        "    for i in range(a.shape[0]):\n",
        "        # ...\n",
        "    return x"
      ],
      "metadata": {
        "id": "rBXgQrCE8DGZ"
      },
      "execution_count": 12,
      "outputs": []
    },
    {
      "cell_type": "code",
      "source": [
        "# Тест для задания 4\n",
        "a = np.array([-5, 4, 2, 4])\n",
        "b = np.array([1, 8, 3, 2])\n",
        "print(f\"dot_product_of_vectors(a, b) = {dot_product_of_vectors(a, b)}\")"
      ],
      "metadata": {
        "colab": {
          "base_uri": "https://localhost:8080/"
        },
        "id": "v_atNeVH8sNn",
        "outputId": "31a07b77-c37b-45eb-e09f-372eba9cf99e"
      },
      "execution_count": 13,
      "outputs": [
        {
          "output_type": "stream",
          "name": "stdout",
          "text": [
            "dot_product_of_vectors(a, b) = 24\n"
          ]
        }
      ]
    },
    {
      "cell_type": "code",
      "source": [
        "# Задание 5. Выполните скалярное умножение векторов, используя стандартную функцию \"dot\". Чем является результат функции?\n",
        "a = np.array([-5, 4, 2, 4])\n",
        "b = np.array([1, 8, 3, 2])\n",
        "c = # ... Код для скалярное умножения вектора a на вектор b\n",
        "print(f\"product = {c}\") \n",
        "c = # ... Код для скалярного умножения b на a\n",
        "print(f\"product = {c}\")"
      ],
      "metadata": {
        "colab": {
          "base_uri": "https://localhost:8080/"
        },
        "id": "E7csXW0k_dpd",
        "outputId": "eb474925-892a-4f5f-b65a-fa7db28871e9"
      },
      "execution_count": 15,
      "outputs": [
        {
          "output_type": "stream",
          "name": "stdout",
          "text": [
            "product = 41\n",
            "product = 41\n"
          ]
        }
      ]
    },
    {
      "cell_type": "code",
      "source": [
        "# Задание 6. Посмотреть на пример работы собственной функции dot_product_of_vectors и функцию dot из библиотеки NumPy. Сделать выводы.\n",
        "\n",
        "import time\n",
        "\n",
        "np.random.seed(1)\n",
        "a = np.random.rand(10000000)  \n",
        "b = np.random.rand(10000000)\n",
        "\n",
        "tic = time.time()  \n",
        "c = np.dot(a, b)\n",
        "toc = time.time()  \n",
        "\n",
        "print(f\"np.dot(a, b) =  {c:.4f}\")\n",
        "print(f\"Time : {1000*(toc-tic):.4f} ms \\n\")\n",
        "\n",
        "tic = time.time()  \n",
        "c = dot_product_of_vectors(a,b)\n",
        "toc = time.time()  \n",
        "\n",
        "print(f\"dot_product_of_vectors(a, b) =  {c:.4f}\")\n",
        "print(f\"Time : {1000*(toc-tic):.4f} ms \")\n",
        "\n",
        "del(a);del(b)  "
      ],
      "metadata": {
        "colab": {
          "base_uri": "https://localhost:8080/"
        },
        "id": "1inpRPDZA9Vt",
        "outputId": "a35d5fc5-cca2-491a-c3be-9686d7f6b4e6"
      },
      "execution_count": 19,
      "outputs": [
        {
          "output_type": "stream",
          "name": "stdout",
          "text": [
            "np.dot(a, b) =  2501072.5817\n",
            "Time : 18.3415 ms \n",
            "\n",
            "dot_product_of_vectors(a, b) =  2501072.5817\n",
            "Time : 4979.1291 ms \n"
          ]
        }
      ]
    },
    {
      "cell_type": "code",
      "source": [
        "# Задание 7. Вывести размеры контейнеров. Вставить код вместо многоточий\n",
        "\n",
        "X = np.array([[1],[2],[3],[4]])\n",
        "w = np.array([2])\n",
        "c = np.dot(X[1], w)\n",
        "\n",
        "print(f\"X has shape {...}\")\n",
        "print(f\"X[1] has shape {...}\")\n",
        "print(f\"w has shape {...}\")\n",
        "print(f\"c has shape {...}\")"
      ],
      "metadata": {
        "colab": {
          "base_uri": "https://localhost:8080/"
        },
        "id": "L9lq6l1OGDHh",
        "outputId": "d6933890-780c-49cb-bd28-d94977d4040a"
      },
      "execution_count": 22,
      "outputs": [
        {
          "output_type": "stream",
          "name": "stdout",
          "text": [
            "X has shape Ellipsis\n",
            "X[1] has shape Ellipsis\n",
            "w has shape Ellipsis\n",
            "c has shape Ellipsis\n"
          ]
        }
      ]
    },
    {
      "cell_type": "code",
      "source": [
        "# Задание 8. Создать массивы...\n",
        "\n",
        "# Массив 1Х5 , заполненный нулями\n",
        "# Массив 2Х1 , заполненный нулями\n",
        "# Массив 1Х1 , с рандомным значением\n",
        "\n",
        "# Вывести размеры всех массивов в удобном формате, например: print(f\"a shape = {a.shape}, a = {a}\") \n"
      ],
      "metadata": {
        "colab": {
          "base_uri": "https://localhost:8080/"
        },
        "id": "c2_bUMEtHTTP",
        "outputId": "26639cd2-2def-4bd5-9be8-6a3dc8db87c7"
      },
      "execution_count": 25,
      "outputs": [
        {
          "output_type": "stream",
          "name": "stdout",
          "text": [
            "a shape = (1, 5), a = [[0. 0. 0. 0. 0.]]\n",
            "a shape = (2, 1), a = [[0.]\n",
            " [0.]]\n",
            "a shape = (1, 1), a = [[0.77390955]]\n"
          ]
        }
      ]
    },
    {
      "cell_type": "code",
      "source": [
        "# Задание 9. Создать массивы и заполнить их произвольными числами...\n",
        "\n",
        "# Массив 1Х3\n",
        "# Массив 3Х3\n",
        "# Массив 3Х3Х3\n",
        "\n",
        "# Вывести размеры всех массивов в удобном формате"
      ],
      "metadata": {
        "colab": {
          "base_uri": "https://localhost:8080/"
        },
        "id": "w2c21Y76IhfD",
        "outputId": "8fe84865-673a-4065-83e8-e880d3670a42"
      },
      "execution_count": 26,
      "outputs": [
        {
          "output_type": "stream",
          "name": "stdout",
          "text": [
            " a shape = (3, 1), np.array: a = [[5]\n",
            " [4]\n",
            " [3]]\n",
            " a shape = (3, 1), np.array: a = [[5]\n",
            " [4]\n",
            " [3]]\n"
          ]
        }
      ]
    },
    {
      "cell_type": "code",
      "source": [
        "# Задание 10. \n",
        "\n",
        "a = np.arange(6).reshape(-1, 2)   # Как можно было записать иначе? \n",
        "print(f\"a.shape: {a.shape}, \\na= {a}\")\n",
        "\n",
        "# Вывести элемент матрицы, который находится в последней строке и первом столбце и посмотреть тип с помощью функции type()\n",
        "\n",
        "# Вывести вторую по счету строку матрицы и посмотреть тип с помощью функции type()\n"
      ],
      "metadata": {
        "colab": {
          "base_uri": "https://localhost:8080/"
        },
        "id": "si_wq1hOJMhe",
        "outputId": "a5a870dc-81c7-4717-afa1-700be44fe524"
      },
      "execution_count": 29,
      "outputs": [
        {
          "output_type": "stream",
          "name": "stdout",
          "text": [
            "a.shape: (3, 2), \n",
            "a= [[0 1]\n",
            " [2 3]\n",
            " [4 5]]\n",
            "\n",
            "a[2,0].shape:   (), a[2,0] = 4,     type(a[2,0]) = <class 'numpy.int64'> Accessing an element returns a scalar\n",
            "\n",
            "a[2].shape:   (2,), a[2]   = [4 5], type(a[2])   = <class 'numpy.ndarray'>\n"
          ]
        }
      ]
    },
    {
      "cell_type": "code",
      "source": [
        "# Задание 10. Рассмотреть примеры\n",
        "\n",
        "a = np.arange(20).reshape(-1, 10)\n",
        "print(f\"a = \\n{a}\\n\\n\")\n",
        "print(\"a[0, 2:7:1] = \", a[0, 2:7:1], \",  a[0, 2:7:1].shape =\", a[0, 2:7:1].shape, \"a 1-D array\\n\\n\")\n",
        "print(\"a[:, 2:7:1] = \\n\", a[:, 2:7:1], \",  a[:, 2:7:1].shape =\", a[:, 2:7:1].shape, \"a 2-D array\\n\\n\")\n",
        "print(\"a[:,:] = \\n\", a[:,:], \",  a[:,:].shape =\", a[:,:].shape,\"\\n\\n\")\n",
        "print(\"a[1,:] = \", a[1,:], \",  a[1,:].shape =\", a[1,:].shape, \"a 1-D array\\n\\n\")\n",
        "print(\"a[1]   = \", a[1],   \",  a[1].shape   =\", a[1].shape, \"a 1-D array\\n\\n\")"
      ],
      "metadata": {
        "colab": {
          "base_uri": "https://localhost:8080/"
        },
        "id": "JA1O1D0tLcYC",
        "outputId": "9f6d7363-5a7d-4a8c-94df-8ff5b92040f9"
      },
      "execution_count": 32,
      "outputs": [
        {
          "output_type": "stream",
          "name": "stdout",
          "text": [
            "a = \n",
            "[[ 0  1  2  3  4  5  6  7  8  9]\n",
            " [10 11 12 13 14 15 16 17 18 19]]\n",
            "\n",
            "\n",
            "a[0, 2:7:1] =  [2 3 4 5 6] ,  a[0, 2:7:1].shape = (5,) a 1-D array\n",
            "\n",
            "\n",
            "a[:, 2:7:1] = \n",
            " [[ 2  3  4  5  6]\n",
            " [12 13 14 15 16]] ,  a[:, 2:7:1].shape = (2, 5) a 2-D array\n",
            "\n",
            "\n",
            "a[:,:] = \n",
            " [[ 0  1  2  3  4  5  6  7  8  9]\n",
            " [10 11 12 13 14 15 16 17 18 19]] ,  a[:,:].shape = (2, 10) \n",
            "\n",
            "\n",
            "a[1,:] =  [10 11 12 13 14 15 16 17 18 19] ,  a[1,:].shape = (10,) a 1-D array\n",
            "\n",
            "\n",
            "a[1]   =  [10 11 12 13 14 15 16 17 18 19] ,  a[1].shape   = (10,) a 1-D array\n",
            "\n",
            "\n"
          ]
        }
      ]
    },
    {
      "cell_type": "code",
      "source": [
        "# Задание 11.\n",
        "\n",
        "a = np.arange(1,31).reshape(-1, 10)\n",
        "\n",
        "# Вывести предпоследний столбец матрицы\n",
        "# Вывести предпоследнюю чтроку матрицы\n",
        "# Вывести середину матрицы (числа 12, 13, 14, 15, 16, 17, 18, 19)"
      ],
      "metadata": {
        "colab": {
          "base_uri": "https://localhost:8080/"
        },
        "id": "lpjScBPxMgzK",
        "outputId": "992376ab-d9fb-4219-c577-4eeb57d1521f"
      },
      "execution_count": 39,
      "outputs": [
        {
          "output_type": "execute_result",
          "data": {
            "text/plain": [
              "array([[ 1,  2,  3,  4,  5,  6,  7,  8,  9, 10],\n",
              "       [11, 12, 13, 14, 15, 16, 17, 18, 19, 20],\n",
              "       [21, 22, 23, 24, 25, 26, 27, 28, 29, 30]])"
            ]
          },
          "metadata": {},
          "execution_count": 39
        }
      ]
    }
  ]
}